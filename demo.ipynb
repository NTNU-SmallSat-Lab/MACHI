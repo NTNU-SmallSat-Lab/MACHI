{
 "cells": [
  {
   "cell_type": "code",
   "execution_count": null,
   "id": "4b59a955",
   "metadata": {},
   "outputs": [],
   "source": [
    "import matplotlib.pyplot as plt\n",
    "import machi.base as ac\n",
    "import numpy as np\n",
    "from hypso.download import download_nc_files"
   ]
  },
  {
   "cell_type": "code",
   "execution_count": null,
   "id": "ad50b422",
   "metadata": {},
   "outputs": [],
   "source": [
    "download_nc_files(filename_list=[\"bergen_2024-06-11_1048Z-l1a.nc\"],\n",
    "                  download_dir=\"../../Downloads\")"
   ]
  },
  {
   "cell_type": "code",
   "execution_count": null,
   "id": "73e89aee",
   "metadata": {},
   "outputs": [],
   "source": [
    "from hypso import Hypso\n",
    "\n",
    "hypso_file_path=\"../../Downloads/bergen_2024-06-11_1048Z-l1a.nc\"\n",
    "# load and calibrate the hypso image, e.g. convert to radiance\n",
    "satobj = Hypso(hypso_file_path)"
   ]
  },
  {
   "cell_type": "code",
   "execution_count": null,
   "id": "fb83a452-af42-41fe-8d5c-0dad054e2fae",
   "metadata": {},
   "outputs": [],
   "source": [
    "wl = satobj.wavelengths[4:118]"
   ]
  },
  {
   "cell_type": "code",
   "execution_count": null,
   "id": "87c663c0",
   "metadata": {},
   "outputs": [],
   "source": [
    "cube = satobj.get_toa_reflectance()[:,:,4:118]"
   ]
  },
  {
   "cell_type": "code",
   "execution_count": null,
   "id": "65351d42-481f-4c08-9ced-e4801d4f2336",
   "metadata": {},
   "outputs": [],
   "source": [
    "plt.imshow(cube[:,:,100])\n",
    "plt.colorbar()"
   ]
  },
  {
   "cell_type": "code",
   "execution_count": null,
   "id": "684a09bd-3c69-4ef9-8828-ad523fb347ce",
   "metadata": {},
   "outputs": [],
   "source": [
    "sat = np.max(satobj.rawcube, axis=-1) > 35000"
   ]
  },
  {
   "cell_type": "code",
   "execution_count": null,
   "id": "d0545a57-4027-47d5-a08e-b72347a31dd4",
   "metadata": {},
   "outputs": [],
   "source": [
    "plt.imshow(sat)\n",
    "plt.colorbar()"
   ]
  },
  {
   "cell_type": "code",
   "execution_count": null,
   "id": "3477938e",
   "metadata": {},
   "outputs": [],
   "source": [
    "T, A, objs = ac.atm_correction(cube.reshape(-1,114), solar=np.ones(114), verbose=True, tol=0.1)"
   ]
  },
  {
   "cell_type": "code",
   "execution_count": null,
   "id": "138bdc9c",
   "metadata": {},
   "outputs": [],
   "source": [
    "fig, ax = plt.subplots(1)\n",
    "ax.plot(wl,T, color='black')\n",
    "ax.set_ylabel(\"transmission\")\n",
    "ax0 = ax.twinx()\n",
    "ax0.set_ylabel(\"back scatter (fraction of incident light)\", color='blue')\n",
    "ax0.plot(wl,A, color='blue')"
   ]
  },
  {
   "cell_type": "code",
   "execution_count": null,
   "id": "851bc50c",
   "metadata": {},
   "outputs": [],
   "source": [
    "cube_norm = (cube - A) /T\n",
    "cube_norm[sat] = np.nan"
   ]
  },
  {
   "cell_type": "code",
   "execution_count": null,
   "id": "eedf9d5f",
   "metadata": {},
   "outputs": [],
   "source": [
    "plt.plot(cube_norm[400,600])\n",
    "plt.plot(cube[400,600])"
   ]
  },
  {
   "cell_type": "code",
   "execution_count": null,
   "id": "d15d74d5",
   "metadata": {},
   "outputs": [],
   "source": [
    "plt.imshow(cube_norm[:,:,20], vmax=.01)"
   ]
  },
  {
   "cell_type": "code",
   "execution_count": null,
   "id": "7c3bcb6e",
   "metadata": {},
   "outputs": [],
   "source": [
    "rgb = np.zeros(cube_norm.shape[:2] + (3,))"
   ]
  },
  {
   "cell_type": "code",
   "execution_count": null,
   "id": "079e635f",
   "metadata": {},
   "outputs": [],
   "source": [
    "rgb[:,:,0] = cube_norm[:,:,65]\n",
    "rgb[:,:,1] = cube_norm[:,:,47]\n",
    "rgb[:,:,2] = cube_norm[:,:,20]\n",
    "rgb*=20\n",
    "rgb[rgb>1] =1\n",
    "rgb[np.isnan(rgb)]=1"
   ]
  },
  {
   "cell_type": "code",
   "execution_count": null,
   "id": "dc8d551c",
   "metadata": {},
   "outputs": [],
   "source": [
    "fig, ax = plt.subplots(1,1,figsize=(10,10))\n",
    "plt.imshow(np.rot90(rgb), aspect=0.3)"
   ]
  },
  {
   "cell_type": "code",
   "execution_count": null,
   "id": "daa5869d",
   "metadata": {},
   "outputs": [],
   "source": []
  }
 ],
 "metadata": {
  "kernelspec": {
   "display_name": "Python [conda env:hypsoenv] *",
   "language": "python",
   "name": "conda-env-hypsoenv-py"
  },
  "language_info": {
   "codemirror_mode": {
    "name": "ipython",
    "version": 3
   },
   "file_extension": ".py",
   "mimetype": "text/x-python",
   "name": "python",
   "nbconvert_exporter": "python",
   "pygments_lexer": "ipython3",
   "version": "3.9.18"
  }
 },
 "nbformat": 4,
 "nbformat_minor": 5
}
